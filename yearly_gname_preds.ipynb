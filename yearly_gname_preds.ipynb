{
 "cells": [
  {
   "cell_type": "code",
   "execution_count": 1,
   "metadata": {},
   "outputs": [
    {
     "name": "stderr",
     "output_type": "stream",
     "text": [
      "/home/joey/anaconda2/envs/py27/lib/python2.7/site-packages/sklearn/cross_validation.py:41: DeprecationWarning: This module was deprecated in version 0.18 in favor of the model_selection module into which all the refactored classes and functions are moved. Also note that the interface of the new CV iterators are different from that of this module. This module will be removed in 0.20.\n",
      "  \"This module will be removed in 0.20.\", DeprecationWarning)\n",
      "/home/joey/anaconda2/envs/py27/lib/python2.7/site-packages/sklearn/ensemble/weight_boosting.py:29: DeprecationWarning: numpy.core.umath_tests is an internal NumPy module and should not be imported. It will be removed in a future NumPy release.\n",
      "  from numpy.core.umath_tests import inner1d\n",
      "/home/joey/anaconda2/envs/py27/lib/python2.7/site-packages/sklearn/grid_search.py:42: DeprecationWarning: This module was deprecated in version 0.18 in favor of the model_selection module into which all the refactored classes and functions are moved. This module will be removed in 0.20.\n",
      "  DeprecationWarning)\n"
     ]
    }
   ],
   "source": [
    "# imports\n",
    "\n",
    "import gtd_funcs as f\n",
    "\n",
    "import pandas as pd # data manipulation/storing\n",
    "import numpy as np # data manipulation\n",
    "from sklearn import preprocessing # label encoding for modeling\n",
    "import datetime # date handling/timing\n",
    "import matplotlib.pyplot as plt # plotting\n",
    "%matplotlib inline "
   ]
  },
  {
   "cell_type": "code",
   "execution_count": 2,
   "metadata": {
    "scrolled": true
   },
   "outputs": [
    {
     "name": "stderr",
     "output_type": "stream",
     "text": [
      "/home/joey/anaconda2/envs/py27/lib/python2.7/site-packages/IPython/core/interactiveshell.py:2818: DtypeWarning: Columns (4,6,31,33,53,61,62,63,76,79,90,92,94,96,114,115,121) have mixed types. Specify dtype option on import or set low_memory=False.\n",
      "  if self.run_code(code, result):\n"
     ]
    },
    {
     "name": "stdout",
     "output_type": "stream",
     "text": [
      "df preprocess shape: (170350, 135)\n",
      "df postprocess shape: (170350, 137)\n",
      "unique event ids == to row count? True\n"
     ]
    }
   ],
   "source": [
    "df = f.load_plus_dates('data/globalterrorismdb_0617.csv')"
   ]
  },
  {
   "cell_type": "code",
   "execution_count": 3,
   "metadata": {
    "scrolled": true
   },
   "outputs": [
    {
     "name": "stdout",
     "output_type": "stream",
     "text": [
      "var not included: date_obj\n"
     ]
    }
   ],
   "source": [
    "var_list = f.get_vars('data/gtd_feats.csv')\n",
    "\n",
    "# splitting feats into lists by type\n",
    "cats = []\n",
    "txts = []\n",
    "dums = []\n",
    "quants = []\n",
    "total = 0\n",
    "for index, row in var_list.iterrows():\n",
    "    \n",
    "#     print type(row['useful'])\n",
    "#     print row['useful'], '..........', row['NAME']\n",
    "    if row['useful'] == 'y':\n",
    "        total += 1\n",
    "        if row['type'] == 'txt':\n",
    "            txts.append(row['NAME'])\n",
    "        elif row['type'] == 'dummy':\n",
    "            dums.append(row['NAME'])\n",
    "        elif row['type'] == 'cat':\n",
    "            cats.append(row['NAME'])\n",
    "        elif row['type'] == 'quant':\n",
    "            quants.append(row['NAME'])\n",
    "        elif row['type'] == 'date':\n",
    "            cats.append(row['NAME'])\n",
    "        else:\n",
    "            print 'var not included: {}'.format(row['NAME'])\n",
    "#         print row['NAME'], row['type']\n",
    "#         print row['type']\n",
    "\n"
   ]
  },
  {
   "cell_type": "code",
   "execution_count": 4,
   "metadata": {},
   "outputs": [
    {
     "name": "stdout",
     "output_type": "stream",
     "text": [
      "len of-- df: 137. txts: 18, quants: 13, dums: 14, cats: 13, total: 59\n"
     ]
    }
   ],
   "source": [
    "print 'len of-- df: {}. txts: {}, quants: {}, dums: {}, cats: {}, total: {}'.format(\n",
    "        df.shape[1],len(txts), len(quants), len(dums), len(cats), total)"
   ]
  },
  {
   "cell_type": "code",
   "execution_count": 5,
   "metadata": {},
   "outputs": [],
   "source": [
    "# for -9 or -99 to np.nan:\n",
    "na_vals = [-9,-99]\n",
    "for col in df.columns:\n",
    "    df[col].replace(na_vals,np.nan,inplace=True)"
   ]
  },
  {
   "cell_type": "code",
   "execution_count": 6,
   "metadata": {},
   "outputs": [
    {
     "name": "stdout",
     "output_type": "stream",
     "text": [
      "number of feats using: 34, number of total feats: 137\n"
     ]
    }
   ],
   "source": [
    "feats_using = [\n",
    "    'country_txt',\n",
    "    'region_txt',\n",
    "    'city',\n",
    "    'attacktype1_txt',\n",
    "    'targtype1_txt',\n",
    "    'targsubtype1_txt',\n",
    "    'natlty1_txt',\n",
    "    'weaptype1_txt',\n",
    "    'weekday',\n",
    "    'extended',\n",
    "    'crit1',\n",
    "    'crit2',\n",
    "    'crit3',\n",
    "    'doubtterr',\n",
    "    'multiple',\n",
    "    'success',\n",
    "    'suicide',\n",
    "    'individual',\n",
    "    'claimed',\n",
    "    'property',\n",
    "    'ishostkid',\n",
    "    'ransom',\n",
    "    'nperps',\n",
    "    'nperpcap',\n",
    "    'nkill',\n",
    "    'nkillter',\n",
    "    'nwound',\n",
    "    'nwoundte',\n",
    "    'target1',\n",
    "    'weapdetail',\n",
    "    'gname',\n",
    "    'iyear',\n",
    "    'imonth',\n",
    "    'iday'\n",
    "#     'propvalue',\n",
    "#     ''\n",
    "\n",
    "]\n",
    "\n",
    "print 'number of feats using: {}, number of total feats: {}'.format(len(feats_using), df.shape[1])"
   ]
  },
  {
   "cell_type": "code",
   "execution_count": 7,
   "metadata": {},
   "outputs": [
    {
     "data": {
      "text/plain": [
       "((170350, 36), (170350, 137))"
      ]
     },
     "execution_count": 7,
     "metadata": {},
     "output_type": "execute_result"
    }
   ],
   "source": [
    "df2 = df[feats_using+['date_obj','eventid']]\n",
    "df2.shape, df.shape"
   ]
  },
  {
   "cell_type": "code",
   "execution_count": 8,
   "metadata": {
    "scrolled": true
   },
   "outputs": [
    {
     "name": "stdout",
     "output_type": "stream",
     "text": [
      "country_txt\n",
      "region_txt\n",
      "city\n",
      "attacktype1_txt\n",
      "targtype1_txt\n",
      "targsubtype1_txt\n",
      "natlty1_txt\n",
      "weaptype1_txt\n",
      "weekday\n",
      "extended\n",
      "crit1\n",
      "crit2\n",
      "crit3\n",
      "doubtterr\n",
      "multiple\n",
      "success\n",
      "suicide\n",
      "individual\n",
      "claimed\n",
      "property\n",
      "ishostkid\n",
      "ransom\n",
      "nperps\n",
      "nperpcap\n",
      "nkill\n",
      "nkillter\n",
      "nwound\n",
      "nwoundte\n",
      "target1\n",
      "weapdetail\n",
      "gname\n",
      "iyear\n",
      "imonth\n",
      "iday\n",
      "date_obj\n",
      "eventid\n"
     ]
    }
   ],
   "source": [
    "for x in df2.columns:\n",
    "    print x"
   ]
  },
  {
   "cell_type": "code",
   "execution_count": 9,
   "metadata": {},
   "outputs": [],
   "source": [
    "cats_using = []\n",
    "quants_using = []\n",
    "dums_using = []\n",
    "txts_using = []\n",
    "for x in df2.columns:\n",
    "    if x in cats:\n",
    "        cats_using.append(x)\n",
    "    elif x in quants:\n",
    "        quants_using.append(x)\n",
    "    elif x in dums:\n",
    "        dums_using.append(x)\n",
    "    elif x in txts:\n",
    "        txts_using.append(x)"
   ]
  },
  {
   "cell_type": "code",
   "execution_count": 10,
   "metadata": {},
   "outputs": [
    {
     "name": "stdout",
     "output_type": "stream",
     "text": [
      "number of-- cats: 9, quants: 6, dums: 13, txts: 4\n"
     ]
    }
   ],
   "source": [
    "print 'number of-- cats: {}, quants: {}, dums: {}, txts: {}'.format(len(cats_using),\n",
    "                                                                    len(quants_using), \n",
    "                                                                    len(dums_using), \n",
    "                                                                    len(txts_using))\n",
    "\n",
    "# above + date_obj == df2.shape\n"
   ]
  },
  {
   "cell_type": "markdown",
   "metadata": {},
   "source": [
    "# starting modeling process:"
   ]
  },
  {
   "cell_type": "code",
   "execution_count": 11,
   "metadata": {},
   "outputs": [
    {
     "data": {
      "text/plain": [
       "(170350, 36)"
      ]
     },
     "execution_count": 11,
     "metadata": {},
     "output_type": "execute_result"
    }
   ],
   "source": [
    "df2.shape"
   ]
  },
  {
   "cell_type": "markdown",
   "metadata": {},
   "source": [
    "### categorical feature encoding\n"
   ]
  },
  {
   "cell_type": "code",
   "execution_count": 12,
   "metadata": {},
   "outputs": [
    {
     "name": "stderr",
     "output_type": "stream",
     "text": [
      "/home/joey/anaconda2/envs/py27/lib/python2.7/site-packages/ipykernel_launcher.py:10: SettingWithCopyWarning: \n",
      "A value is trying to be set on a copy of a slice from a DataFrame.\n",
      "Try using .loc[row_indexer,col_indexer] = value instead\n",
      "\n",
      "See the caveats in the documentation: http://pandas.pydata.org/pandas-docs/stable/indexing.html#indexing-view-versus-copy\n",
      "  # Remove the CWD from sys.path while we load stuff.\n"
     ]
    }
   ],
   "source": [
    "####################################\n",
    "# cat feat transforms:\n",
    "for feat in ['region_txt','attacktype1_txt','natlty1_txt','country_txt',\n",
    "             'targtype1_txt','weaptype1_txt']:\n",
    "    if 'natlty' in feat or 'country' in feat:\n",
    "        n_deep = 20\n",
    "    else:\n",
    "        n_deep = 0\n",
    "    feat_val_list = f.values_list_generator(df2,feat,n_deep)\n",
    "    df2[str(feat) + '_encoded'] = preprocessing.LabelEncoder().fit_transform(feat_val_list)\n",
    "#     df33.drop([feat],axis=1,inplace=True)\n",
    "    # no need to drop, can go through feats, look if another with _encoded append, put in FINAL LIST\n",
    "    "
   ]
  },
  {
   "cell_type": "markdown",
   "metadata": {},
   "source": [
    "### quantitative feature encoding"
   ]
  },
  {
   "cell_type": "code",
   "execution_count": 13,
   "metadata": {},
   "outputs": [
    {
     "name": "stderr",
     "output_type": "stream",
     "text": [
      "/home/joey/anaconda2/envs/py27/lib/python2.7/site-packages/ipykernel_launcher.py:5: SettingWithCopyWarning: \n",
      "A value is trying to be set on a copy of a slice from a DataFrame.\n",
      "Try using .loc[row_indexer,col_indexer] = value instead\n",
      "\n",
      "See the caveats in the documentation: http://pandas.pydata.org/pandas-docs/stable/indexing.html#indexing-view-versus-copy\n",
      "  \"\"\"\n",
      "/home/joey/anaconda2/envs/py27/lib/python2.7/site-packages/ipykernel_launcher.py:9: SettingWithCopyWarning: \n",
      "A value is trying to be set on a copy of a slice from a DataFrame.\n",
      "Try using .loc[row_indexer,col_indexer] = value instead\n",
      "\n",
      "See the caveats in the documentation: http://pandas.pydata.org/pandas-docs/stable/indexing.html#indexing-view-versus-copy\n",
      "  if __name__ == '__main__':\n",
      "/home/joey/anaconda2/envs/py27/lib/python2.7/site-packages/ipykernel_launcher.py:14: SettingWithCopyWarning: \n",
      "A value is trying to be set on a copy of a slice from a DataFrame.\n",
      "Try using .loc[row_indexer,col_indexer] = value instead\n",
      "\n",
      "See the caveats in the documentation: http://pandas.pydata.org/pandas-docs/stable/indexing.html#indexing-view-versus-copy\n",
      "  \n",
      "/home/joey/anaconda2/envs/py27/lib/python2.7/site-packages/ipykernel_launcher.py:19: SettingWithCopyWarning: \n",
      "A value is trying to be set on a copy of a slice from a DataFrame.\n",
      "Try using .loc[row_indexer,col_indexer] = value instead\n",
      "\n",
      "See the caveats in the documentation: http://pandas.pydata.org/pandas-docs/stable/indexing.html#indexing-view-versus-copy\n",
      "/home/joey/anaconda2/envs/py27/lib/python2.7/site-packages/ipykernel_launcher.py:24: SettingWithCopyWarning: \n",
      "A value is trying to be set on a copy of a slice from a DataFrame.\n",
      "Try using .loc[row_indexer,col_indexer] = value instead\n",
      "\n",
      "See the caveats in the documentation: http://pandas.pydata.org/pandas-docs/stable/indexing.html#indexing-view-versus-copy\n",
      "/home/joey/anaconda2/envs/py27/lib/python2.7/site-packages/ipykernel_launcher.py:29: SettingWithCopyWarning: \n",
      "A value is trying to be set on a copy of a slice from a DataFrame.\n",
      "Try using .loc[row_indexer,col_indexer] = value instead\n",
      "\n",
      "See the caveats in the documentation: http://pandas.pydata.org/pandas-docs/stable/indexing.html#indexing-view-versus-copy\n"
     ]
    }
   ],
   "source": [
    "# quant encoding\n",
    "\n",
    "# nkill\n",
    "val_list = [1 if val <= 2 else 2 if val <=3 else 3 if val <= 10 else 4 for val in df2['nkill']]\n",
    "df2['nkill_encoded'] = val_list\n",
    "\n",
    "# nkillter\n",
    "val_list = [1 if val == 0 else 2 if val <= 2 else 3 if val <= 30 else 4 for val in df2['nkillter']]\n",
    "df2['nkillter_encoded'] = val_list\n",
    "\n",
    "# nwound\n",
    "val_list = [1 if val == 0 else 2 if val == 1 else 3 if val <= 10 else 4 if val <= 50 else 5 \n",
    "            for val in df2['nwound']]\n",
    "df2['nwound_encoded'] = val_list\n",
    "\n",
    "# nwoundte\n",
    "val_list = [1 if val == 0 else 2 if val <= 2 else 3 if val <= 10 else 4 \n",
    "            for val in df2['nwoundte']]\n",
    "df2['nwoundte_encoded'] = val_list\n",
    "\n",
    "# nperps\n",
    "val_list = [1 if val == 1 else 2 if val == 2 else 3 if val == 3 else 4 if val == 4 else 5 if val <= 100\n",
    "           else 6 for val in df2['nperps']]\n",
    "df2['nperps_encoded'] = val_list\n",
    "\n",
    "# nperpcap\n",
    "val_list = [1 if val == 0 else 2 if val == 1 else 3 if val <= 10 else 4\n",
    "           for val in df2['nperpcap']]\n",
    "df2['nperpcap_encoded'] = val_list\n",
    "\n",
    "\n",
    "# df44['nwound_encoded'] = preprocessing.LabelEncoder().fit_transform(val_list)\n",
    "\n",
    "# df33[str(feat) + '_encoded'] = preprocessing.LabelEncoder().fit_transform(feat_val_list)"
   ]
  },
  {
   "cell_type": "code",
   "execution_count": 14,
   "metadata": {
    "scrolled": true
   },
   "outputs": [
    {
     "name": "stdout",
     "output_type": "stream",
     "text": [
      "yes: country_txt\n",
      "yes: region_txt\n",
      "NO: city\n",
      "yes: attacktype1_txt\n",
      "yes: targtype1_txt\n",
      "NO: targsubtype1_txt\n",
      "yes: natlty1_txt\n",
      "yes: weaptype1_txt\n",
      "NO: weekday\n",
      "NO: extended\n",
      "NO: crit1\n",
      "NO: crit2\n",
      "NO: crit3\n",
      "NO: doubtterr\n",
      "NO: multiple\n",
      "NO: success\n",
      "NO: suicide\n",
      "NO: individual\n",
      "NO: claimed\n",
      "NO: property\n",
      "NO: ishostkid\n",
      "NO: ransom\n",
      "yes: nperps\n",
      "yes: nperpcap\n",
      "yes: nkill\n",
      "yes: nkillter\n",
      "yes: nwound\n",
      "yes: nwoundte\n",
      "NO: target1\n",
      "NO: weapdetail\n",
      "NO: gname\n",
      "NO: iyear\n",
      "NO: imonth\n",
      "NO: iday\n",
      "NO: date_obj\n",
      "NO: eventid\n",
      "NO: region_txt_encoded\n",
      "NO: attacktype1_txt_encoded\n",
      "NO: natlty1_txt_encoded\n",
      "NO: country_txt_encoded\n",
      "NO: targtype1_txt_encoded\n",
      "NO: weaptype1_txt_encoded\n",
      "NO: nkill_encoded\n",
      "NO: nkillter_encoded\n",
      "NO: nwound_encoded\n",
      "NO: nwoundte_encoded\n",
      "NO: nperps_encoded\n",
      "NO: nperpcap_encoded\n"
     ]
    }
   ],
   "source": [
    "final_feats = set()\n",
    "for feat in df2.columns:\n",
    "    if feat + '_encoded' in df2.columns and feat not in final_feats:\n",
    "    \n",
    "        print 'yes: {}'.format(feat)\n",
    "#         final_feats.add(feat+'_encoded')\n",
    "    else:\n",
    "        print 'NO: {}'.format(feat)\n",
    "        final_feats.add(feat)"
   ]
  },
  {
   "cell_type": "code",
   "execution_count": 15,
   "metadata": {},
   "outputs": [
    {
     "data": {
      "text/plain": [
       "36"
      ]
     },
     "execution_count": 15,
     "metadata": {},
     "output_type": "execute_result"
    }
   ],
   "source": [
    "len(final_feats)"
   ]
  },
  {
   "cell_type": "code",
   "execution_count": 16,
   "metadata": {},
   "outputs": [
    {
     "data": {
      "text/plain": [
       "{'attacktype1_txt_encoded',\n",
       " 'city',\n",
       " 'claimed',\n",
       " 'country_txt_encoded',\n",
       " 'crit1',\n",
       " 'crit2',\n",
       " 'crit3',\n",
       " 'date_obj',\n",
       " 'doubtterr',\n",
       " 'eventid',\n",
       " 'extended',\n",
       " 'gname',\n",
       " 'iday',\n",
       " 'imonth',\n",
       " 'individual',\n",
       " 'ishostkid',\n",
       " 'iyear',\n",
       " 'multiple',\n",
       " 'natlty1_txt_encoded',\n",
       " 'nkill_encoded',\n",
       " 'nkillter_encoded',\n",
       " 'nperpcap_encoded',\n",
       " 'nperps_encoded',\n",
       " 'nwound_encoded',\n",
       " 'nwoundte_encoded',\n",
       " 'property',\n",
       " 'ransom',\n",
       " 'region_txt_encoded',\n",
       " 'success',\n",
       " 'suicide',\n",
       " 'target1',\n",
       " 'targsubtype1_txt',\n",
       " 'targtype1_txt_encoded',\n",
       " 'weapdetail',\n",
       " 'weaptype1_txt_encoded',\n",
       " 'weekday'}"
      ]
     },
     "execution_count": 16,
     "metadata": {},
     "output_type": "execute_result"
    }
   ],
   "source": [
    "final_feats"
   ]
  },
  {
   "cell_type": "code",
   "execution_count": 17,
   "metadata": {},
   "outputs": [],
   "source": [
    "drops = ['city','targsubtype1_txt','target1','weapdetail','date_obj'] # eventid, gname"
   ]
  },
  {
   "cell_type": "code",
   "execution_count": 18,
   "metadata": {},
   "outputs": [
    {
     "name": "stdout",
     "output_type": "stream",
     "text": [
      "pre drop set len: 36\n",
      "post drop set len: 31\n"
     ]
    }
   ],
   "source": [
    "print 'pre drop set len: {}'.format(len(final_feats))\n",
    "for drop_col in drops:\n",
    "    final_feats.discard(drop_col)\n",
    "print 'post drop set len: {}'.format(len(final_feats))"
   ]
  },
  {
   "cell_type": "code",
   "execution_count": 19,
   "metadata": {
    "scrolled": true
   },
   "outputs": [
    {
     "data": {
      "text/plain": [
       "{'attacktype1_txt_encoded',\n",
       " 'claimed',\n",
       " 'country_txt_encoded',\n",
       " 'crit1',\n",
       " 'crit2',\n",
       " 'crit3',\n",
       " 'doubtterr',\n",
       " 'eventid',\n",
       " 'extended',\n",
       " 'gname',\n",
       " 'iday',\n",
       " 'imonth',\n",
       " 'individual',\n",
       " 'ishostkid',\n",
       " 'iyear',\n",
       " 'multiple',\n",
       " 'natlty1_txt_encoded',\n",
       " 'nkill_encoded',\n",
       " 'nkillter_encoded',\n",
       " 'nperpcap_encoded',\n",
       " 'nperps_encoded',\n",
       " 'nwound_encoded',\n",
       " 'nwoundte_encoded',\n",
       " 'property',\n",
       " 'ransom',\n",
       " 'region_txt_encoded',\n",
       " 'success',\n",
       " 'suicide',\n",
       " 'targtype1_txt_encoded',\n",
       " 'weaptype1_txt_encoded',\n",
       " 'weekday'}"
      ]
     },
     "execution_count": 19,
     "metadata": {},
     "output_type": "execute_result"
    }
   ],
   "source": [
    "final_feats"
   ]
  },
  {
   "cell_type": "markdown",
   "metadata": {},
   "source": [
    "### dummy feature preprocessing (replacing NaN vals with 0s)"
   ]
  },
  {
   "cell_type": "code",
   "execution_count": 20,
   "metadata": {},
   "outputs": [
    {
     "name": "stdout",
     "output_type": "stream",
     "text": [
      "using feat extended\n",
      "using feat crit1\n",
      "using feat crit2\n",
      "using feat crit3\n",
      "using feat doubtterr\n",
      "using feat multiple\n",
      "using feat success\n",
      "using feat suicide\n",
      "using feat individual\n",
      "using feat claimed\n",
      "using feat property\n",
      "using feat ishostkid\n",
      "using feat ransom\n"
     ]
    }
   ],
   "source": [
    "for dum in dums_using:\n",
    "    if dum in final_feats:\n",
    "        print 'using feat {}'.format(dum)"
   ]
  },
  {
   "cell_type": "code",
   "execution_count": 21,
   "metadata": {},
   "outputs": [
    {
     "name": "stdout",
     "output_type": "stream",
     "text": [
      "extended\n",
      "crit1\n",
      "crit2\n"
     ]
    },
    {
     "name": "stderr",
     "output_type": "stream",
     "text": [
      "/home/joey/anaconda2/envs/py27/lib/python2.7/site-packages/pandas/core/generic.py:4619: SettingWithCopyWarning: \n",
      "A value is trying to be set on a copy of a slice from a DataFrame\n",
      "\n",
      "See the caveats in the documentation: http://pandas.pydata.org/pandas-docs/stable/indexing.html#indexing-view-versus-copy\n",
      "  self._update_inplace(new_data)\n"
     ]
    },
    {
     "name": "stdout",
     "output_type": "stream",
     "text": [
      "crit3\n",
      "doubtterr\n",
      "multiple\n",
      "success\n",
      "suicide\n",
      "individual\n",
      "claimed\n",
      "property\n",
      "ishostkid\n",
      "ransom\n"
     ]
    }
   ],
   "source": [
    "for dum in dums_using:\n",
    "    print dum\n",
    "    df2[dum].replace(np.nan,0,inplace=True)"
   ]
  },
  {
   "cell_type": "code",
   "execution_count": 22,
   "metadata": {
    "scrolled": false
   },
   "outputs": [
    {
     "name": "stdout",
     "output_type": "stream",
     "text": [
      "ishostkid has 0 nan vals\n",
      "iday has 0 nan vals\n",
      "region_txt_encoded has 0 nan vals\n",
      "nkill_encoded has 0 nan vals\n",
      "individual has 0 nan vals\n",
      "gname has 0 nan vals\n",
      "claimed has 0 nan vals\n",
      "ransom has 0 nan vals\n",
      "suicide has 0 nan vals\n",
      "attacktype1_txt_encoded has 0 nan vals\n",
      "doubtterr has 0 nan vals\n",
      "nwound_encoded has 0 nan vals\n",
      "eventid has 0 nan vals\n",
      "extended has 0 nan vals\n",
      "multiple has 0 nan vals\n",
      "weaptype1_txt_encoded has 0 nan vals\n",
      "nperpcap_encoded has 0 nan vals\n",
      "nkillter_encoded has 0 nan vals\n",
      "imonth has 0 nan vals\n",
      "crit1 has 0 nan vals\n",
      "nwoundte_encoded has 0 nan vals\n",
      "crit3 has 0 nan vals\n",
      "crit2 has 0 nan vals\n",
      "success has 0 nan vals\n",
      "targtype1_txt_encoded has 0 nan vals\n",
      "iyear has 0 nan vals\n",
      "country_txt_encoded has 0 nan vals\n",
      "weekday has 0 nan vals\n",
      "property has 0 nan vals\n",
      "nperps_encoded has 0 nan vals\n",
      "natlty1_txt_encoded has 0 nan vals\n"
     ]
    }
   ],
   "source": [
    "# checking sum of na for each feature to be used in model\n",
    "for x in final_feats:\n",
    "    print '{} has {} nan vals'.format(x,df2[x].isna().sum())"
   ]
  },
  {
   "cell_type": "code",
   "execution_count": 23,
   "metadata": {},
   "outputs": [
    {
     "data": {
      "text/plain": [
       "((170350, 48), (170350, 31))"
      ]
     },
     "execution_count": 23,
     "metadata": {},
     "output_type": "execute_result"
    }
   ],
   "source": [
    "# creating df3 containing only feats to be used + eventid\n",
    "df3 = df2[list(final_feats)]\n",
    "df2.shape, df3.shape"
   ]
  },
  {
   "cell_type": "code",
   "execution_count": 24,
   "metadata": {},
   "outputs": [
    {
     "name": "stdout",
     "output_type": "stream",
     "text": [
      "len yearly groupby: 46\n"
     ]
    }
   ],
   "source": [
    "# grouping by 'iyear'\n",
    "df_yearly = df3.groupby('iyear')\n",
    "print 'len yearly groupby: {}'.format(len(df_yearly))"
   ]
  },
  {
   "cell_type": "code",
   "execution_count": 25,
   "metadata": {
    "scrolled": true
   },
   "outputs": [
    {
     "name": "stdout",
     "output_type": "stream",
     "text": [
      "1970\n",
      "number of events: 651\n",
      "number of gnames: 81\n",
      "----------------------------------------------------------------------------------------------------\n",
      "1971\n",
      "number of events: 470\n",
      "number of gnames: 65\n",
      "----------------------------------------------------------------------------------------------------\n",
      "1972\n",
      "number of events: 496\n",
      "number of gnames: 52\n",
      "----------------------------------------------------------------------------------------------------\n",
      "1973\n",
      "number of events: 473\n",
      "number of gnames: 60\n",
      "----------------------------------------------------------------------------------------------------\n",
      "1974\n",
      "number of events: 580\n",
      "number of gnames: 84\n",
      "----------------------------------------------------------------------------------------------------\n",
      "1975\n",
      "number of events: 740\n",
      "number of gnames: 109\n",
      "----------------------------------------------------------------------------------------------------\n",
      "1976\n",
      "number of events: 923\n",
      "number of gnames: 120\n",
      "----------------------------------------------------------------------------------------------------\n",
      "1977\n",
      "number of events: 1319\n",
      "number of gnames: 172\n",
      "----------------------------------------------------------------------------------------------------\n",
      "1978\n",
      "number of events: 1526\n",
      "number of gnames: 203\n",
      "----------------------------------------------------------------------------------------------------\n",
      "1979\n",
      "number of events: 2661\n",
      "number of gnames: 235\n",
      "----------------------------------------------------------------------------------------------------\n",
      "1980\n",
      "number of events: 2662\n",
      "number of gnames: 255\n",
      "----------------------------------------------------------------------------------------------------\n",
      "1981\n",
      "number of events: 2585\n",
      "number of gnames: 222\n",
      "----------------------------------------------------------------------------------------------------\n",
      "1982\n",
      "number of events: 2545\n",
      "number of gnames: 157\n",
      "----------------------------------------------------------------------------------------------------\n",
      "1983\n",
      "number of events: 2870\n",
      "number of gnames: 177\n",
      "----------------------------------------------------------------------------------------------------\n",
      "1984\n",
      "number of events: 3495\n",
      "number of gnames: 208\n",
      "----------------------------------------------------------------------------------------------------\n",
      "1985\n",
      "number of events: 2915\n",
      "number of gnames: 173\n",
      "----------------------------------------------------------------------------------------------------\n",
      "1986\n",
      "number of events: 2860\n",
      "number of gnames: 203\n",
      "----------------------------------------------------------------------------------------------------\n",
      "1987\n",
      "number of events: 3184\n",
      "number of gnames: 161\n",
      "----------------------------------------------------------------------------------------------------\n",
      "1988\n",
      "number of events: 3720\n",
      "number of gnames: 192\n",
      "----------------------------------------------------------------------------------------------------\n",
      "1989\n",
      "number of events: 4323\n",
      "number of gnames: 210\n",
      "----------------------------------------------------------------------------------------------------\n",
      "1990\n",
      "number of events: 3887\n",
      "number of gnames: 216\n",
      "----------------------------------------------------------------------------------------------------\n",
      "1991\n",
      "number of events: 4683\n",
      "number of gnames: 265\n",
      "----------------------------------------------------------------------------------------------------\n",
      "1992\n",
      "number of events: 5073\n",
      "number of gnames: 391\n",
      "----------------------------------------------------------------------------------------------------\n",
      "1994\n",
      "number of events: 3458\n",
      "number of gnames: 281\n",
      "----------------------------------------------------------------------------------------------------\n",
      "1995\n",
      "number of events: 3081\n",
      "number of gnames: 272\n",
      "----------------------------------------------------------------------------------------------------\n",
      "1996\n",
      "number of events: 3056\n",
      "number of gnames: 232\n",
      "----------------------------------------------------------------------------------------------------\n",
      "1997\n",
      "number of events: 3200\n",
      "number of gnames: 214\n",
      "----------------------------------------------------------------------------------------------------\n",
      "1998\n",
      "number of events: 933\n",
      "number of gnames: 96\n",
      "----------------------------------------------------------------------------------------------------\n",
      "1999\n",
      "number of events: 1395\n",
      "number of gnames: 184\n",
      "----------------------------------------------------------------------------------------------------\n",
      "2000\n",
      "number of events: 1813\n",
      "number of gnames: 199\n",
      "----------------------------------------------------------------------------------------------------\n",
      "2001\n",
      "number of events: 1907\n",
      "number of gnames: 189\n",
      "----------------------------------------------------------------------------------------------------\n",
      "2002\n",
      "number of events: 1332\n",
      "number of gnames: 147\n",
      "----------------------------------------------------------------------------------------------------\n",
      "2003\n",
      "number of events: 1262\n",
      "number of gnames: 148\n",
      "----------------------------------------------------------------------------------------------------\n",
      "2004\n",
      "number of events: 1162\n",
      "number of gnames: 112\n",
      "----------------------------------------------------------------------------------------------------\n",
      "2005\n",
      "number of events: 2009\n",
      "number of gnames: 135\n",
      "----------------------------------------------------------------------------------------------------\n",
      "2006\n",
      "number of events: 2749\n",
      "number of gnames: 138\n",
      "----------------------------------------------------------------------------------------------------\n",
      "2007\n",
      "number of events: 3241\n",
      "number of gnames: 134\n",
      "----------------------------------------------------------------------------------------------------\n",
      "2008\n",
      "number of events: 4803\n",
      "number of gnames: 201\n",
      "----------------------------------------------------------------------------------------------------\n",
      "2009\n",
      "number of events: 4719\n",
      "number of gnames: 195\n",
      "----------------------------------------------------------------------------------------------------\n",
      "2010\n",
      "number of events: 4822\n",
      "number of gnames: 173\n",
      "----------------------------------------------------------------------------------------------------\n",
      "2011\n",
      "number of events: 5071\n",
      "number of gnames: 160\n",
      "----------------------------------------------------------------------------------------------------\n",
      "2012\n",
      "number of events: 8500\n",
      "number of gnames: 221\n",
      "----------------------------------------------------------------------------------------------------\n",
      "2013\n",
      "number of events: 11996\n",
      "number of gnames: 278\n",
      "----------------------------------------------------------------------------------------------------\n",
      "2014\n",
      "number of events: 16860\n",
      "number of gnames: 311\n",
      "----------------------------------------------------------------------------------------------------\n",
      "2015\n",
      "number of events: 14852\n",
      "number of gnames: 315\n",
      "----------------------------------------------------------------------------------------------------\n",
      "2016\n",
      "number of events: 13488\n",
      "number of gnames: 335\n",
      "----------------------------------------------------------------------------------------------------\n"
     ]
    }
   ],
   "source": [
    "# exploring each year:\n",
    "for name, group in df_yearly:\n",
    "    print name\n",
    "    print 'number of events: {}'.format(group.shape[0])\n",
    "    print 'number of gnames: {}'.format(len(group['gname'].value_counts()))\n",
    "    \n",
    "    print '-'*100"
   ]
  },
  {
   "cell_type": "code",
   "execution_count": 26,
   "metadata": {},
   "outputs": [],
   "source": [
    "# holding out 60% of 'unknown' labels\n",
    "# gname_encoding- each year keep label for top 5, else label == 'other'\n",
    "#     - unknown always in top 5"
   ]
  },
  {
   "cell_type": "code",
   "execution_count": 27,
   "metadata": {
    "scrolled": true
   },
   "outputs": [
    {
     "name": "stdout",
     "output_type": "stream",
     "text": [
      "directory available\n",
      "\n",
      "STARTING YEARLY MODELING\n",
      "\n",
      "modeling year: 1970\n",
      "best parameters: {'learning_rate': 0.05, 'max_depth': 5, 'min_samples_leaf': 30} \n",
      "training score: 0.63323782235\n",
      "test accurcay is: 0.673820\n",
      "new labels df shape: (69, 30)\n",
      "time to model: 2.36666666667 mins\n",
      "----------------------------------------\n",
      "\n",
      "\n",
      "modeling year: 1971\n",
      "best parameters: {'learning_rate': 0.1, 'max_depth': 5, 'min_samples_leaf': 30} \n",
      "training score: 0.723577235772\n",
      "test accurcay is: 0.727273\n",
      "new labels df shape: (128, 30)\n",
      "time to model: 1.81666666667 mins\n",
      "----------------------------------------\n",
      "\n",
      "\n",
      "modeling year: 1972\n",
      "best parameters: {'learning_rate': 0.05, 'max_depth': 5, 'min_samples_leaf': 50} \n",
      "training score: 0.715867158672\n",
      "test accurcay is: 0.692308\n",
      "new labels df shape: (171, 30)\n",
      "time to model: 1.91666666667 mins\n",
      "----------------------------------------\n",
      "\n",
      "\n",
      "modeling year: 1973\n",
      "best parameters: {'learning_rate': 0.05, 'max_depth': 5, 'min_samples_leaf': 30} \n",
      "training score: 0.633744855967\n",
      "test accurcay is: 0.699387\n",
      "new labels df shape: (238, 30)\n",
      "time to model: 1.71666666667 mins\n",
      "----------------------------------------\n",
      "\n",
      "\n",
      "modeling year: 1974\n",
      "best parameters: {'learning_rate': 0.05, 'max_depth': 5, 'min_samples_leaf': 30} \n",
      "training score: 0.699346405229\n",
      "test accurcay is: 0.741463\n",
      "new labels df shape: (307, 30)\n",
      "time to model: 1.58333333333 mins\n",
      "----------------------------------------\n",
      "\n",
      "\n",
      "modeling year: 1975\n",
      "best parameters: {'learning_rate': 0.05, 'max_depth': 7, 'min_samples_leaf': 30} \n",
      "training score: 0.712846347607\n",
      "test accurcay is: 0.699248\n",
      "new labels df shape: (384, 30)\n",
      "time to model: 2.0 mins\n",
      "----------------------------------------\n",
      "\n",
      "\n",
      "modeling year: 1976\n",
      "best parameters: {'learning_rate': 0.1, 'max_depth': 7, 'min_samples_leaf': 30} \n",
      "training score: 0.70045045045\n",
      "test accurcay is: 0.707071\n",
      "new labels df shape: (566, 30)\n",
      "time to model: 2.2 mins\n",
      "----------------------------------------\n",
      "\n",
      "\n",
      "modeling year: 1977\n",
      "best parameters: {'learning_rate': 0.2, 'max_depth': 5, 'min_samples_leaf': 50} \n",
      "training score: 0.733443708609\n",
      "test accurcay is: 0.722084\n",
      "new labels df shape: (878, 30)\n",
      "time to model: 3.0 mins\n",
      "----------------------------------------\n",
      "\n",
      "\n",
      "modeling year: 1978\n",
      "best parameters: {'learning_rate': 0.3, 'max_depth': 5, 'min_samples_leaf': 30} \n",
      "training score: 0.724184782609\n",
      "test accurcay is: 0.733198\n",
      "new labels df shape: (1177, 30)\n",
      "time to model: 3.71666666667 mins\n",
      "----------------------------------------\n",
      "\n",
      "\n",
      "modeling year: 1979\n",
      "best parameters: {'learning_rate': 0.05, 'max_depth': 5, 'min_samples_leaf': 50} \n",
      "training score: 0.817417876241\n",
      "test accurcay is: 0.824742\n",
      "new labels df shape: (1656, 30)\n",
      "time to model: 7.13333333333 mins\n",
      "----------------------------------------\n",
      "\n",
      "\n",
      "modeling year: 1980\n",
      "best parameters: {'learning_rate': 0.2, 'max_depth': 7, 'min_samples_leaf': 30} \n",
      "training score: 0.701466781708\n",
      "test accurcay is: 0.720930\n",
      "new labels df shape: (2385, 30)\n",
      "time to model: 6.31666666667 mins\n",
      "----------------------------------------\n",
      "\n",
      "\n",
      "modeling year: 1981\n",
      "best parameters: {'learning_rate': 0.05, 'max_depth': 9, 'min_samples_leaf': 30} \n",
      "training score: 0.760576057606\n",
      "test accurcay is: 0.745283\n",
      "new labels df shape: (3117, 30)\n",
      "time to model: 5.96666666667 mins\n",
      "----------------------------------------\n",
      "\n",
      "\n",
      "modeling year: 1982\n",
      "best parameters: {'learning_rate': 0.1, 'max_depth': 11, 'min_samples_leaf': 50} \n",
      "training score: 0.763496143959\n",
      "test accurcay is: 0.799743\n",
      "new labels df shape: (3716, 30)\n",
      "time to model: 6.31666666667 mins\n",
      "----------------------------------------\n",
      "\n",
      "\n",
      "modeling year: 1983\n",
      "best parameters: {'learning_rate': 0.1, 'max_depth': 5, 'min_samples_leaf': 90} \n",
      "training score: 0.83174386921\n",
      "test accurcay is: 0.837755\n",
      "new labels df shape: (4138, 30)\n",
      "time to model: 8.23333333333 mins\n",
      "----------------------------------------\n",
      "\n",
      "\n",
      "modeling year: 1984\n",
      "best parameters: {'learning_rate': 0.05, 'max_depth': 9, 'min_samples_leaf': 30} \n",
      "training score: 0.855902777778\n",
      "test accurcay is: 0.852559\n",
      "new labels df shape: (4752, 30)\n",
      "time to model: 9.71666666667 mins\n",
      "----------------------------------------\n",
      "\n",
      "\n",
      "modeling year: 1985\n",
      "best parameters: {'learning_rate': 0.05, 'max_depth': 11, 'min_samples_leaf': 30} \n",
      "training score: 0.866932801065\n",
      "test accurcay is: 0.868263\n",
      "new labels df shape: (5162, 30)\n",
      "time to model: 8.23333333333 mins\n",
      "----------------------------------------\n",
      "\n",
      "\n",
      "modeling year: 1986\n",
      "best parameters: {'learning_rate': 0.1, 'max_depth': 7, 'min_samples_leaf': 50} \n",
      "training score: 0.832863187588\n",
      "test accurcay is: 0.820296\n",
      "new labels df shape: (5658, 30)\n",
      "time to model: 7.46666666667 mins\n",
      "----------------------------------------\n",
      "\n",
      "\n",
      "modeling year: 1987\n",
      "best parameters: {'learning_rate': 0.1, 'max_depth': 9, 'min_samples_leaf': 50} \n",
      "training score: 0.870967741935\n",
      "test accurcay is: 0.874552\n",
      "new labels df shape: (6052, 30)\n",
      "time to model: 9.38333333333 mins\n",
      "----------------------------------------\n",
      "\n",
      "\n",
      "modeling year: 1988\n",
      "best parameters: {'learning_rate': 0.1, 'max_depth': 7, 'min_samples_leaf': 90} \n",
      "training score: 0.862234042553\n",
      "test accurcay is: 0.848485\n",
      "new labels df shape: (6638, 30)\n",
      "time to model: 11.3 mins\n",
      "----------------------------------------\n",
      "\n",
      "\n",
      "modeling year: 1989\n",
      "best parameters: {'learning_rate': 0.2, 'max_depth': 7, 'min_samples_leaf': 50} \n",
      "training score: 0.844023996308\n",
      "test accurcay is: 0.835408\n",
      "new labels df shape: (7348, 30)\n",
      "time to model: 13.3666666667 mins\n",
      "----------------------------------------\n",
      "\n",
      "\n",
      "modeling year: 1990\n",
      "best parameters: {'learning_rate': 0.1, 'max_depth': 11, 'min_samples_leaf': 90} \n",
      "training score: 0.851773425093\n",
      "test accurcay is: 0.844444\n",
      "new labels df shape: (8086, 30)\n",
      "time to model: 10.5166666667 mins\n",
      "----------------------------------------\n",
      "\n",
      "\n",
      "modeling year: 1991\n",
      "best parameters: {'learning_rate': 0.1, 'max_depth': 11, 'min_samples_leaf': 30} \n",
      "training score: 0.819913419913\n",
      "test accurcay is: 0.813636\n",
      "new labels df shape: (8919, 30)\n",
      "time to model: 13.3666666667 mins\n",
      "----------------------------------------\n",
      "\n",
      "\n",
      "modeling year: 1992\n",
      "best parameters: {'learning_rate': 0.2, 'max_depth': 9, 'min_samples_leaf': 30} \n",
      "training score: 0.80067001675\n",
      "test accurcay is: 0.795355\n",
      "new labels df shape: (10011, 30)\n",
      "time to model: 14.3666666667 mins\n",
      "----------------------------------------\n",
      "\n",
      "\n",
      "modeling year: 1994\n",
      "best parameters: {'learning_rate': 0.05, 'max_depth': 11, 'min_samples_leaf': 30} \n",
      "training score: 0.764705882353\n",
      "test accurcay is: 0.777132\n",
      "new labels df shape: (10890, 30)\n",
      "time to model: 9.08333333333 mins\n",
      "----------------------------------------\n",
      "\n",
      "\n",
      "modeling year: 1995\n",
      "best parameters: {'learning_rate': 0.05, 'max_depth': 7, 'min_samples_leaf': 30} \n",
      "training score: 0.796411856474\n",
      "test accurcay is: 0.788551\n",
      "new labels df shape: (11833, 30)\n",
      "time to model: 7.15 mins\n",
      "----------------------------------------\n",
      "\n",
      "\n",
      "modeling year: 1996\n",
      "best parameters: {'learning_rate': 0.05, 'max_depth': 9, 'min_samples_leaf': 30} \n",
      "training score: 0.736507936508\n",
      "test accurcay is: 0.760999\n",
      "new labels df shape: (12788, 30)\n",
      "time to model: 7.05 mins\n",
      "----------------------------------------\n",
      "\n",
      "\n",
      "modeling year: 1997\n",
      "best parameters: {'learning_rate': 0.1, 'max_depth': 11, 'min_samples_leaf': 30} \n",
      "training score: 0.698765432099\n",
      "test accurcay is: 0.711111\n",
      "new labels df shape: (13963, 30)\n",
      "time to model: 7.03333333333 mins\n",
      "----------------------------------------\n",
      "\n",
      "\n",
      "modeling year: 1998\n",
      "best parameters: {'learning_rate': 0.05, 'max_depth': 7, 'min_samples_leaf': 30} \n",
      "training score: 0.798982188295\n",
      "test accurcay is: 0.707224\n",
      "new labels df shape: (14240, 30)\n",
      "time to model: 1.98333333333 mins\n",
      "----------------------------------------\n",
      "\n",
      "\n",
      "modeling year: 1999\n",
      "best parameters: {'learning_rate': 0.05, 'max_depth': 11, 'min_samples_leaf': 30} \n",
      "training score: 0.722772277228\n",
      "test accurcay is: 0.649383\n",
      "new labels df shape: (14624, 30)\n",
      "time to model: 3.01666666667 mins\n",
      "----------------------------------------\n",
      "\n",
      "\n",
      "modeling year: 2000\n",
      "best parameters: {'learning_rate': 0.05, 'max_depth': 11, 'min_samples_leaf': 30} \n",
      "training score: 0.740384615385\n",
      "test accurcay is: 0.744604\n",
      "new labels df shape: (15049, 30)\n",
      "time to model: 4.23333333333 mins\n",
      "----------------------------------------\n",
      "\n",
      "\n",
      "modeling year: 2001\n",
      "best parameters: {'learning_rate': 0.05, 'max_depth': 7, 'min_samples_leaf': 30} \n",
      "training score: 0.719626168224\n",
      "test accurcay is: 0.672504\n"
     ]
    },
    {
     "name": "stdout",
     "output_type": "stream",
     "text": [
      "new labels df shape: (15529, 30)\n",
      "time to model: 4.26666666667 mins\n",
      "----------------------------------------\n",
      "\n",
      "\n",
      "modeling year: 2002\n",
      "best parameters: {'learning_rate': 0.05, 'max_depth': 9, 'min_samples_leaf': 30} \n",
      "training score: 0.725677830941\n",
      "test accurcay is: 0.687351\n",
      "new labels df shape: (15815, 30)\n",
      "time to model: 3.0 mins\n",
      "----------------------------------------\n",
      "\n",
      "\n",
      "modeling year: 2003\n",
      "best parameters: {'learning_rate': 0.05, 'max_depth': 11, 'min_samples_leaf': 30} \n",
      "training score: 0.753424657534\n",
      "test accurcay is: 0.787179\n",
      "new labels df shape: (16103, 30)\n",
      "time to model: 2.76666666667 mins\n",
      "----------------------------------------\n",
      "\n",
      "\n",
      "modeling year: 2004\n",
      "best parameters: {'learning_rate': 0.05, 'max_depth': 5, 'min_samples_leaf': 30} \n",
      "training score: 0.74739039666\n",
      "test accurcay is: 0.743750\n",
      "new labels df shape: (16466, 30)\n",
      "time to model: 2.18333333333 mins\n",
      "----------------------------------------\n",
      "\n",
      "\n",
      "modeling year: 2005\n",
      "best parameters: {'learning_rate': 0.1, 'max_depth': 7, 'min_samples_leaf': 50} \n",
      "training score: 0.839416058394\n",
      "test accurcay is: 0.821494\n",
      "new labels df shape: (17104, 30)\n",
      "time to model: 3.86666666667 mins\n",
      "----------------------------------------\n",
      "\n",
      "\n",
      "modeling year: 2006\n",
      "best parameters: {'learning_rate': 0.2, 'max_depth': 7, 'min_samples_leaf': 70} \n",
      "training score: 0.803149606299\n",
      "test accurcay is: 0.778761\n",
      "new labels df shape: (18159, 30)\n",
      "time to model: 5.0 mins\n",
      "----------------------------------------\n",
      "\n",
      "\n",
      "modeling year: 2007\n",
      "best parameters: {'learning_rate': 0.05, 'max_depth': 9, 'min_samples_leaf': 30} \n",
      "training score: 0.793637145314\n",
      "test accurcay is: 0.807990\n",
      "new labels df shape: (19461, 30)\n",
      "time to model: 5.88333333333 mins\n",
      "----------------------------------------\n",
      "\n",
      "\n",
      "modeling year: 2008\n",
      "best parameters: {'learning_rate': 0.1, 'max_depth': 5, 'min_samples_leaf': 90} \n",
      "training score: 0.762326869806\n",
      "test accurcay is: 0.772425\n",
      "new labels df shape: (21255, 30)\n",
      "time to model: 10.0666666667 mins\n",
      "----------------------------------------\n",
      "\n",
      "\n",
      "modeling year: 2009\n",
      "best parameters: {'learning_rate': 0.05, 'max_depth': 11, 'min_samples_leaf': 50} \n",
      "training score: 0.765861875351\n",
      "test accurcay is: 0.763468\n",
      "new labels df shape: (23005, 30)\n",
      "time to model: 10.0 mins\n",
      "----------------------------------------\n",
      "\n",
      "\n",
      "modeling year: 2010\n",
      "best parameters: {'learning_rate': 0.05, 'max_depth': 7, 'min_samples_leaf': 70} \n",
      "training score: 0.795774647887\n",
      "test accurcay is: 0.804224\n",
      "new labels df shape: (24750, 30)\n",
      "time to model: 10.4166666667 mins\n",
      "----------------------------------------\n",
      "\n",
      "\n",
      "modeling year: 2011\n",
      "best parameters: {'learning_rate': 0.1, 'max_depth': 9, 'min_samples_leaf': 30} \n",
      "training score: 0.799894681411\n",
      "test accurcay is: 0.778216\n",
      "new labels df shape: (26655, 30)\n",
      "time to model: 10.4166666667 mins\n",
      "----------------------------------------\n",
      "\n",
      "\n",
      "modeling year: 2012\n",
      "best parameters: {'learning_rate': 0.1, 'max_depth': 7, 'min_samples_leaf': 30} \n",
      "training score: 0.83258994945\n",
      "test accurcay is: 0.838163\n",
      "new labels df shape: (29549, 30)\n",
      "time to model: 20.4 mins\n",
      "----------------------------------------\n",
      "\n",
      "\n",
      "modeling year: 2013\n",
      "best parameters: {'learning_rate': 0.1, 'max_depth': 7, 'min_samples_leaf': 30} \n",
      "training score: 0.832409972299\n",
      "test accurcay is: 0.846953\n",
      "new labels df shape: (34325, 30)\n",
      "time to model: 27.2833333333 mins\n",
      "----------------------------------------\n",
      "\n",
      "\n",
      "modeling year: 2014\n",
      "best parameters: {'learning_rate': 0.05, 'max_depth': 11, 'min_samples_leaf': 30} \n",
      "training score: 0.818888568961\n",
      "test accurcay is: 0.822107\n",
      "new labels df shape: (39607, 30)\n",
      "time to model: 51.4666666667 mins\n",
      "----------------------------------------\n",
      "\n",
      "\n",
      "modeling year: 2015\n",
      "best parameters: {'learning_rate': 0.1, 'max_depth': 7, 'min_samples_leaf': 30} \n",
      "training score: 0.832528666264\n",
      "test accurcay is: 0.838878\n",
      "new labels df shape: (43412, 30)\n",
      "time to model: 49.1333333333 mins\n",
      "----------------------------------------\n",
      "\n",
      "\n",
      "modeling year: 2016\n",
      "best parameters: {'learning_rate': 0.05, 'max_depth': 9, 'min_samples_leaf': 30} \n",
      "training score: 0.834481599731\n",
      "test accurcay is: 0.841230\n",
      "new labels df shape: (46981, 30)\n",
      "time to model: 44.0333333333 mins\n",
      "----------------------------------------\n",
      "\n",
      "\n",
      "minutes to run: 452.116666667\n"
     ]
    }
   ],
   "source": [
    "train_accuracies = []\n",
    "test_accuracies = []\n",
    "years = []\n",
    "\n",
    "\n",
    "f.check_create_model_dir()\n",
    "# setting param grid\n",
    "param_grid = {\n",
    "    'learning_rate':[.05,.1,.2,.3], #,.3,.5\n",
    "    'max_depth':[5,7,9,11],\n",
    "    'min_samples_leaf':[30,50,70,90], #,105,125\n",
    "    \n",
    "}\n",
    "# start_total = time.time()\n",
    "total_start = datetime.datetime.now()\n",
    "# new df for relabelling:\n",
    "new_labels = pd.DataFrame()\n",
    "print '\\nSTARTING YEARLY MODELING\\n'\n",
    "for idx, (name, group) in enumerate(df_yearly):\n",
    "#     if idx > 30:\n",
    "#     start_time = time.time()\n",
    "    yearly_time_start = datetime.datetime.now()\n",
    "    print 'modeling year: {}'.format(name)\n",
    "    save_path = 'models/{}.sav'.format(str(name))\n",
    "    yearly_preds, train_accuracy, test_accuracy = f.yearly_model(group, param_grid, \n",
    "                                     save_path, n_deep = 5)\n",
    "    test_accuracies.append(test_accuracy)\n",
    "    train_accuracies.append(train_accuracy)\n",
    "    years.append(name)\n",
    "    # adding new labels to df\n",
    "    new_labels = new_labels.append(yearly_preds)\n",
    "    print 'new labels df shape: {}'.format(new_labels.shape)\n",
    "#     end_time = time.time()\n",
    "    yearly_time_end = datetime.datetime.now()\n",
    "    yearly_duration = yearly_time_end - yearly_time_start\n",
    "    print 'time to model: {} mins'.format(yearly_duration.seconds/60.)\n",
    "    print '-'*40\n",
    "    print '\\n'\n",
    "#     if idx > 1:\n",
    "#         break\n",
    "total_end = datetime.datetime.now()\n",
    "total_duration = total_end - total_start\n",
    "print ('minutes to run: {}'.format(total_duration.seconds / 60.))\n",
    "\n"
   ]
  },
  {
   "cell_type": "code",
   "execution_count": 28,
   "metadata": {},
   "outputs": [],
   "source": [
    "# exploring train/test accuracies"
   ]
  },
  {
   "cell_type": "code",
   "execution_count": 29,
   "metadata": {
    "scrolled": true
   },
   "outputs": [
    {
     "data": {
      "text/plain": [
       "[0.6332378223495702,\n",
       " 0.7235772357723578,\n",
       " 0.7158671586715867,\n",
       " 0.6337448559670782,\n",
       " 0.6993464052287581,\n",
       " 0.7128463476070529,\n",
       " 0.7004504504504504,\n",
       " 0.7334437086092715,\n",
       " 0.7241847826086957,\n",
       " 0.8174178762414056,\n",
       " 0.7014667817083693,\n",
       " 0.7605760576057605,\n",
       " 0.7634961439588689,\n",
       " 0.8317438692098093,\n",
       " 0.8559027777777778,\n",
       " 0.8669328010645376,\n",
       " 0.8328631875881524,\n",
       " 0.8709677419354839,\n",
       " 0.8622340425531915,\n",
       " 0.8440239963082603,\n",
       " 0.8517734250926416,\n",
       " 0.8199134199134199,\n",
       " 0.8006700167504187,\n",
       " 0.7647058823529411,\n",
       " 0.7964118564742589,\n",
       " 0.7365079365079366,\n",
       " 0.6987654320987654,\n",
       " 0.7989821882951654,\n",
       " 0.7227722772277227,\n",
       " 0.7403846153846154,\n",
       " 0.719626168224299,\n",
       " 0.7256778309409888,\n",
       " 0.7534246575342466,\n",
       " 0.7473903966597077,\n",
       " 0.8394160583941606,\n",
       " 0.8031496062992126,\n",
       " 0.7936371453138436,\n",
       " 0.7623268698060942,\n",
       " 0.7658618753509264,\n",
       " 0.795774647887324,\n",
       " 0.7998946814112691,\n",
       " 0.832589949449896,\n",
       " 0.832409972299169,\n",
       " 0.8188885689605528,\n",
       " 0.8325286662643331,\n",
       " 0.8344815997311377]"
      ]
     },
     "execution_count": 29,
     "metadata": {},
     "output_type": "execute_result"
    }
   ],
   "source": [
    "train_accuracies "
   ]
  },
  {
   "cell_type": "code",
   "execution_count": 30,
   "metadata": {
    "scrolled": true
   },
   "outputs": [
    {
     "data": {
      "text/plain": [
       "[0.6738197424892703,\n",
       " 0.7272727272727273,\n",
       " 0.6923076923076923,\n",
       " 0.6993865030674846,\n",
       " 0.7414634146341463,\n",
       " 0.6992481203007519,\n",
       " 0.7070707070707071,\n",
       " 0.7220843672456576,\n",
       " 0.7331975560081466,\n",
       " 0.8247422680412371,\n",
       " 0.7209302325581395,\n",
       " 0.7452830188679245,\n",
       " 0.7997432605905006,\n",
       " 0.8377551020408164,\n",
       " 0.852558542931483,\n",
       " 0.8682634730538922,\n",
       " 0.8202959830866807,\n",
       " 0.8745519713261649,\n",
       " 0.8484848484848485,\n",
       " 0.8354080221300139,\n",
       " 0.8444444444444444,\n",
       " 0.8136363636363636,\n",
       " 0.7953546767106089,\n",
       " 0.7771317829457365,\n",
       " 0.7885514018691588,\n",
       " 0.760998810939358,\n",
       " 0.7111111111111111,\n",
       " 0.7072243346007605,\n",
       " 0.6493827160493827,\n",
       " 0.7446043165467626,\n",
       " 0.6725043782837128,\n",
       " 0.6873508353221957,\n",
       " 0.7871794871794872,\n",
       " 0.74375,\n",
       " 0.8214936247723132,\n",
       " 0.7787610619469026,\n",
       " 0.8079896907216495,\n",
       " 0.7724252491694352,\n",
       " 0.7634680134680135,\n",
       " 0.8042242079610074,\n",
       " 0.7782162588792423,\n",
       " 0.838163174320107,\n",
       " 0.8469529085872576,\n",
       " 0.8221070811744386,\n",
       " 0.83887757411179,\n",
       " 0.8412298387096774]"
      ]
     },
     "execution_count": 30,
     "metadata": {},
     "output_type": "execute_result"
    }
   ],
   "source": [
    "test_accuracies"
   ]
  },
  {
   "cell_type": "code",
   "execution_count": 31,
   "metadata": {
    "scrolled": true
   },
   "outputs": [
    {
     "data": {
      "text/plain": [
       "[1970,\n",
       " 1971,\n",
       " 1972,\n",
       " 1973,\n",
       " 1974,\n",
       " 1975,\n",
       " 1976,\n",
       " 1977,\n",
       " 1978,\n",
       " 1979,\n",
       " 1980,\n",
       " 1981,\n",
       " 1982,\n",
       " 1983,\n",
       " 1984,\n",
       " 1985,\n",
       " 1986,\n",
       " 1987,\n",
       " 1988,\n",
       " 1989,\n",
       " 1990,\n",
       " 1991,\n",
       " 1992,\n",
       " 1994,\n",
       " 1995,\n",
       " 1996,\n",
       " 1997,\n",
       " 1998,\n",
       " 1999,\n",
       " 2000,\n",
       " 2001,\n",
       " 2002,\n",
       " 2003,\n",
       " 2004,\n",
       " 2005,\n",
       " 2006,\n",
       " 2007,\n",
       " 2008,\n",
       " 2009,\n",
       " 2010,\n",
       " 2011,\n",
       " 2012,\n",
       " 2013,\n",
       " 2014,\n",
       " 2015,\n",
       " 2016]"
      ]
     },
     "execution_count": 31,
     "metadata": {},
     "output_type": "execute_result"
    }
   ],
   "source": [
    "years"
   ]
  },
  {
   "cell_type": "code",
   "execution_count": 32,
   "metadata": {},
   "outputs": [],
   "source": [
    "# plotting accuracies"
   ]
  },
  {
   "cell_type": "code",
   "execution_count": 45,
   "metadata": {
    "scrolled": false
   },
   "outputs": [
    {
     "data": {
      "text/plain": [
       "<matplotlib.legend.Legend at 0x7f244477b850>"
      ]
     },
     "execution_count": 45,
     "metadata": {},
     "output_type": "execute_result"
    },
    {
     "data": {
      "image/png": "[encoded data removed]",
      "text/plain": [
       "<matplotlib.figure.Figure at 0x7f2444842710>"
      ]
     },
     "metadata": {},
     "output_type": "display_data"
    }
   ],
   "source": [
    "fig, ax = plt.subplots(ncols=1,nrows=1,figsize=(12,10))\n",
    "\n",
    "plt.suptitle('Model Training and Testing Scores',fontsize=28)\n",
    "ax.plot(years, test_accuracies, label = 'testing')\n",
    "ax.plot(years, train_accuracies, label = 'training')\n",
    "# plt.plot(years, test_accuracies, label = 'testing', ax = ax[0])\n",
    "# plt.plot(years, train_accuracies, label='training', ax = ax[0])\n",
    "\n",
    "ax.set_title('Accuracy Scores by Year')\n",
    "ax.set_ylabel('Score')\n",
    "ax.set_xlabel('Year')\n",
    "# plt.xlabel('Year')\n",
    "# plt.ylabel('Score')\n",
    "ax.legend(loc='best')"
   ]
  },
  {
   "cell_type": "markdown",
   "metadata": {},
   "source": [
    "Accuracies peaked in the late 1980s in the low 90% and have ended in the mid 80s."
   ]
  },
  {
   "cell_type": "code",
   "execution_count": 34,
   "metadata": {},
   "outputs": [],
   "source": [
    "# exploring new labels:"
   ]
  },
  {
   "cell_type": "code",
   "execution_count": 35,
   "metadata": {},
   "outputs": [
    {
     "data": {
      "text/plain": [
       "(46981, 30)"
      ]
     },
     "execution_count": 35,
     "metadata": {},
     "output_type": "execute_result"
    }
   ],
   "source": [
    "new_labels.shape"
   ]
  },
  {
   "cell_type": "code",
   "execution_count": 36,
   "metadata": {
    "scrolled": true
   },
   "outputs": [
    {
     "data": {
      "text/plain": [
       "Unknown                                                        30385\n",
       "other                                                          12148\n",
       "Taliban                                                         1303\n",
       "Islamic State of Iraq and the Levant (ISIL)                      526\n",
       "Shining Path (SL)                                                335\n",
       "Al-Shabaab                                                       253\n",
       "Boko Haram                                                       247\n",
       "Farabundo Marti National Liberation Front (FMLN)                 212\n",
       "Communist Party of India - Maoist (CPI-Maoist)                   191\n",
       "Tehrik-i-Taliban Pakistan (TTP)                                  155\n",
       "Manuel Rodriguez Patriotic Front (FPMR)                          125\n",
       "Kurdistan Workers' Party (PKK)                                   123\n",
       "Revolutionary Armed Forces of Colombia (FARC)                    118\n",
       "Chechen Rebels                                                   110\n",
       "Liberation Tigers of Tamil Eelam (LTTE)                           87\n",
       "Basque Fatherland and Freedom (ETA)                               73\n",
       "Irish Republican Army (IRA)                                       65\n",
       "Nicaraguan Democratic Force (FDN)                                 53\n",
       "National Liberation Army of Colombia (ELN)                        45\n",
       "Sandinista National Liberation Front (FSLN)                       40\n",
       "People's Liberation Front (JVP)                                   38\n",
       "Al-Gama'at al-Islamiyya (IG)                                      33\n",
       "New People's Army (NPA)                                           30\n",
       "Al-Qaida in Iraq                                                  29\n",
       "Algerian Islamic Extremists                                       24\n",
       "Ejercito Revolucionaria del Pueblo (ERP) (Argentina)              19\n",
       "Thai Islamic Militants                                            18\n",
       "Red Brigades                                                      14\n",
       "National Union for the Total Independence of Angola (UNITA)       14\n",
       "Palestinians                                                      14\n",
       "Opposition Group                                                  13\n",
       "Free Aceh Movement (GAM)                                          13\n",
       "Islamist extremists                                               12\n",
       "Revolutionary Patriotic Anti-Fascist Front (FRAP)                 10\n",
       "Moro Islamic Liberation Front (MILF)                               9\n",
       "M-19 (Movement of April 19)                                        9\n",
       "Movement of the Revolutionary Left (MIR) (Chile)                   8\n",
       "Salafist Group for Preaching and Fighting (GSPC)                   7\n",
       "Maoists                                                            7\n",
       "Nicaraguan Resistance                                              7\n",
       "Muttahida Qami Movement (MQM)                                      6\n",
       "Janatantrik Terai Mukti Morcha- Jwala Singh (JTMM-J)               6\n",
       "Neo-Nazi extremists                                                6\n",
       "Narco-Terrorists                                                   5\n",
       "Hutu extremists                                                    5\n",
       "Turkish People's Liberation Army                                   5\n",
       "Tawhid and Jihad                                                   4\n",
       "Armed Islamic Group (GIA)                                          3\n",
       "Al-Qaida in the Islamic Maghreb (AQIM)                             2\n",
       "Ulster Volunteer Force (UVF)                                       2\n",
       "Corsican National Liberation Front (FLNC)                          2\n",
       "Student Radicals                                                   2\n",
       "Chicano Liberation Front                                           2\n",
       "Black Nationalists                                                 2\n",
       "Left-Wing Militants                                                2\n",
       "Al-Aqsa Martyrs Brigade                                            1\n",
       "New World Liberation Front (NWLF)                                  1\n",
       "Tupamaros (Uruguay)                                                1\n",
       "Protestant extremists                                              1\n",
       "Montoneros (Argentina)                                             1\n",
       "Name: new_label, dtype: int64"
      ]
     },
     "execution_count": 36,
     "metadata": {},
     "output_type": "execute_result"
    }
   ],
   "source": [
    "new_labels['new_label'].value_counts()"
   ]
  },
  {
   "cell_type": "code",
   "execution_count": 51,
   "metadata": {},
   "outputs": [
    {
     "name": "stdout",
     "output_type": "stream",
     "text": [
      "Total events predicted on: 46981\n",
      "Number predicted as \"Unknown\": 30385 vs number reclassified as another gname: 16596\n"
     ]
    }
   ],
   "source": [
    "print 'Total events predicted on: {}'.format(new_labels.shape[0])\n",
    "print 'Number predicted as \"Unknown\": {} vs number reclassified as another gname: {}'.format(\n",
    "    new_labels['new_label'].value_counts()[0],new_labels.shape[0] - new_labels['new_label'].value_counts()[0])"
   ]
  },
  {
   "cell_type": "code",
   "execution_count": 52,
   "metadata": {
    "scrolled": true
   },
   "outputs": [
    {
     "name": "stdout",
     "output_type": "stream",
     "text": [
      "Number of \"Unknown\" new_labels: 30385\n"
     ]
    }
   ],
   "source": [
    "print 'Number of \"Unknown\" new_labels: {}'.format(new_labels['new_label'].value_counts()[0])"
   ]
  },
  {
   "cell_type": "markdown",
   "metadata": {},
   "source": [
    "Was able to reclassify 16,596 events based on the circumstances/characteristics of the event into possible organizations responsible for the event. \n",
    "\n",
    "Next steps would be implementing different models, further tuning hyperparameters, and exploring other ways to predict gnames."
   ]
  },
  {
   "cell_type": "code",
   "execution_count": null,
   "metadata": {},
   "outputs": [],
   "source": []
  }
 ],
 "metadata": {
  "kernelspec": {
   "display_name": "Python 2",
   "language": "python",
   "name": "python2"
  },
  "language_info": {
   "codemirror_mode": {
    "name": "ipython",
    "version": 2
   },
   "file_extension": ".py",
   "mimetype": "text/x-python",
   "name": "python",
   "nbconvert_exporter": "python",
   "pygments_lexer": "ipython2",
   "version": "2.7.14"
  }
 },
 "nbformat": 4,
 "nbformat_minor": 2
}
